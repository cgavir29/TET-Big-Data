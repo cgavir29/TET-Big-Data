{
 "cells": [
  {
   "cell_type": "code",
   "execution_count": 1,
   "metadata": {},
   "outputs": [
    {
     "data": {
      "application/vnd.jupyter.widget-view+json": {
       "model_id": "095d7fdfb2bf47eb91d77bf2a71a89c4",
       "version_major": 2,
       "version_minor": 0
      },
      "text/plain": [
       "VBox()"
      ]
     },
     "metadata": {},
     "output_type": "display_data"
    },
    {
     "name": "stdout",
     "output_type": "stream",
     "text": [
      "Starting Spark application\n"
     ]
    },
    {
     "data": {
      "text/html": [
       "<table>\n",
       "<tr><th>ID</th><th>YARN Application ID</th><th>Kind</th><th>State</th><th>Spark UI</th><th>Driver log</th><th>Current session?</th></tr><tr><td>1</td><td>application_1588558552313_0002</td><td>pyspark</td><td>idle</td><td><a target=\"_blank\" href=\"http://ip-172-31-59-198.ec2.internal:20888/proxy/application_1588558552313_0002/\">Link</a></td><td><a target=\"_blank\" href=\"http://ip-172-31-48-162.ec2.internal:8042/node/containerlogs/container_1588558552313_0002_01_000001/livy\">Link</a></td><td>✔</td></tr></table>"
      ],
      "text/plain": [
       "<IPython.core.display.HTML object>"
      ]
     },
     "metadata": {},
     "output_type": "display_data"
    },
    {
     "data": {
      "application/vnd.jupyter.widget-view+json": {
       "model_id": "",
       "version_major": 2,
       "version_minor": 0
      },
      "text/plain": [
       "FloatProgress(value=0.0, bar_style='info', description='Progress:', layout=Layout(height='25px', width='50%'),…"
      ]
     },
     "metadata": {},
     "output_type": "display_data"
    },
    {
     "name": "stdout",
     "output_type": "stream",
     "text": [
      "SparkSession available as 'spark'.\n"
     ]
    },
    {
     "data": {
      "application/vnd.jupyter.widget-view+json": {
       "model_id": "",
       "version_major": 2,
       "version_minor": 0
      },
      "text/plain": [
       "FloatProgress(value=0.0, bar_style='info', description='Progress:', layout=Layout(height='25px', width='50%'),…"
      ]
     },
     "metadata": {},
     "output_type": "display_data"
    }
   ],
   "source": [
    "# Import SparkSession\n",
    "from pyspark.sql import SparkSession\n",
    "from pyspark.sql.functions import datediff"
   ]
  },
  {
   "cell_type": "code",
   "execution_count": 2,
   "metadata": {},
   "outputs": [
    {
     "data": {
      "application/vnd.jupyter.widget-view+json": {
       "model_id": "b4e7794ea8a540f38f2886a46741d5a8",
       "version_major": 2,
       "version_minor": 0
      },
      "text/plain": [
       "VBox()"
      ]
     },
     "metadata": {},
     "output_type": "display_data"
    },
    {
     "data": {
      "application/vnd.jupyter.widget-view+json": {
       "model_id": "",
       "version_major": 2,
       "version_minor": 0
      },
      "text/plain": [
       "FloatProgress(value=0.0, bar_style='info', description='Progress:', layout=Layout(height='25px', width='50%'),…"
      ]
     },
     "metadata": {},
     "output_type": "display_data"
    }
   ],
   "source": [
    "# Create Spark session object\n",
    "spark = SparkSession.builder.appName('data_processing').getOrCreate()"
   ]
  },
  {
   "cell_type": "code",
   "execution_count": 3,
   "metadata": {},
   "outputs": [
    {
     "data": {
      "application/vnd.jupyter.widget-view+json": {
       "model_id": "b8d63f42c97047ed91538ff7898b0b14",
       "version_major": 2,
       "version_minor": 0
      },
      "text/plain": [
       "VBox()"
      ]
     },
     "metadata": {},
     "output_type": "display_data"
    },
    {
     "data": {
      "application/vnd.jupyter.widget-view+json": {
       "model_id": "",
       "version_major": 2,
       "version_minor": 0
      },
      "text/plain": [
       "FloatProgress(value=0.0, bar_style='info', description='Progress:', layout=Layout(height='25px', width='50%'),…"
      ]
     },
     "metadata": {},
     "output_type": "display_data"
    }
   ],
   "source": [
    "# Load csv dataset\n",
    "df = spark.read.csv('s3://tet-bd/datasets/spark/Casos_positivos_de_COVID-19_en_Colombia.csv', inferSchema=True, header=True)"
   ]
  },
  {
   "cell_type": "code",
   "execution_count": 4,
   "metadata": {},
   "outputs": [
    {
     "data": {
      "application/vnd.jupyter.widget-view+json": {
       "model_id": "0a108484dca64584863da497ba452f2a",
       "version_major": 2,
       "version_minor": 0
      },
      "text/plain": [
       "VBox()"
      ]
     },
     "metadata": {},
     "output_type": "display_data"
    },
    {
     "data": {
      "application/vnd.jupyter.widget-view+json": {
       "model_id": "",
       "version_major": 2,
       "version_minor": 0
      },
      "text/plain": [
       "FloatProgress(value=0.0, bar_style='info', description='Progress:', layout=Layout(height='25px', width='50%'),…"
      ]
     },
     "metadata": {},
     "output_type": "display_data"
    }
   ],
   "source": [
    "# Borrar columna 'Codigo DIVIPOLA' y 'FIS'\n",
    "df = df.drop('Codigo DIVIPOLA', 'FIS')"
   ]
  },
  {
   "cell_type": "code",
   "execution_count": 5,
   "metadata": {},
   "outputs": [
    {
     "data": {
      "application/vnd.jupyter.widget-view+json": {
       "model_id": "a9c3f23a90d841c0b2612ad8ac805077",
       "version_major": 2,
       "version_minor": 0
      },
      "text/plain": [
       "VBox()"
      ]
     },
     "metadata": {},
     "output_type": "display_data"
    },
    {
     "data": {
      "application/vnd.jupyter.widget-view+json": {
       "model_id": "",
       "version_major": 2,
       "version_minor": 0
      },
      "text/plain": [
       "FloatProgress(value=0.0, bar_style='info', description='Progress:', layout=Layout(height='25px', width='50%'),…"
      ]
     },
     "metadata": {},
     "output_type": "display_data"
    },
    {
     "name": "stdout",
     "output_type": "stream",
     "text": [
      "+----------+---------------------+-------------------+------------------------+------------+----+----+----------+--------+-------------------+---------------+-------------------+----------------+-------------------+------------------+\n",
      "|ID de caso|Fecha de notificación|Ciudad de ubicación|Departamento o Distrito |    atención|Edad|Sexo|      Tipo|  Estado|País de procedencia|Fecha de muerte|  Fecha diagnostico|Fecha recuperado|  fecha reporte web|dias_hasta_reporte|\n",
      "+----------+---------------------+-------------------+------------------------+------------+----+----+----------+--------+-------------------+---------------+-------------------+----------------+-------------------+------------------+\n",
      "|      6010|  2020-04-26 00:00:00|Cartagena de Indias|     Cartagena D.T. y C.|Hospital UCI|  83|   F|En estudio|   Grave|           Colombia|          -   -|2020-04-28 00:00:00|            null|2020-04-29 00:00:00|                 1|\n",
      "|      6011|  2020-04-26 00:00:00|Cartagena de Indias|     Cartagena D.T. y C.|    Hospital|  61|   M|En estudio|Moderado|           Colombia|          -   -|2020-04-28 00:00:00|            null|2020-04-29 00:00:00|                 1|\n",
      "|      6012|  2020-04-26 00:00:00|Cartagena de Indias|     Cartagena D.T. y C.|Hospital UCI|  52|   M|En estudio|   Grave|           Colombia|          -   -|2020-04-28 00:00:00|            null|2020-04-29 00:00:00|                 1|\n",
      "+----------+---------------------+-------------------+------------------------+------------+----+----+----------+--------+-------------------+---------------+-------------------+----------------+-------------------+------------------+"
     ]
    }
   ],
   "source": [
    "# Crear columna donde se almacena el calculo de dias transcurridos entre 'Fecha diagnostico'\n",
    "# y 'fecha reporte web'\n",
    "df = df.withColumn('dias_hasta_reporte', datediff(df['fecha reporte web'], df['Fecha diagnostico']))\n",
    "df.filter(df['dias_hasta_reporte'] > 0).show()"
   ]
  },
  {
   "cell_type": "code",
   "execution_count": 8,
   "metadata": {},
   "outputs": [
    {
     "data": {
      "application/vnd.jupyter.widget-view+json": {
       "model_id": "c11b43082dd9438fa7d3d31800892e8b",
       "version_major": 2,
       "version_minor": 0
      },
      "text/plain": [
       "VBox()"
      ]
     },
     "metadata": {},
     "output_type": "display_data"
    },
    {
     "data": {
      "application/vnd.jupyter.widget-view+json": {
       "model_id": "",
       "version_major": 2,
       "version_minor": 0
      },
      "text/plain": [
       "FloatProgress(value=0.0, bar_style='info', description='Progress:', layout=Layout(height='25px', width='50%'),…"
      ]
     },
     "metadata": {},
     "output_type": "display_data"
    },
    {
     "name": "stdout",
     "output_type": "stream",
     "text": [
      "+----------+---------------------+-------------------+------------------------+----------+----+----+-----------+------+--------------------+---------------+-------------------+--------------------+-------------------+------------------+\n",
      "|ID de caso|Fecha de notificación|Ciudad de ubicación|Departamento o Distrito |  atención|Edad|Sexo|       Tipo|Estado| País de procedencia|Fecha de muerte|  Fecha diagnostico|    Fecha recuperado|  fecha reporte web|dias_hasta_reporte|\n",
      "+----------+---------------------+-------------------+------------------------+----------+----+----+-----------+------+--------------------+---------------+-------------------+--------------------+-------------------+------------------+\n",
      "|         2|  2020-03-06 00:00:00|Guadalajara de Buga|         Valle del Cauca|Recuperado|  34|   M|  Importado|  Leve|              España|          -   -|2020-03-09 00:00:00|2020-03-19T00:00:...|2020-03-09 00:00:00|                 0|\n",
      "|         5|  2020-03-09 00:00:00|           Medellín|               Antioquia|Recuperado|  25|   M|Relacionado|  Leve|            Colombia|          -   -|2020-03-11 00:00:00|2020-03-23T00:00:...|2020-03-11 00:00:00|                 0|\n",
      "|        14|  2020-03-10 00:00:00|            Palmira|         Valle del Cauca|Recuperado|  48|   M|  Importado|  Leve|              España|          -   -|2020-03-13 00:00:00|2020-03-21T00:00:...|2020-03-13 00:00:00|                 0|\n",
      "|        21|  2020-03-11 00:00:00|           Medellín|               Antioquia|Recuperado|  28|   M|Relacionado|  Leve|            Colombia|          -   -|2020-03-14 00:00:00|2020-04-10T00:00:...|2020-03-14 00:00:00|                 0|\n",
      "|        22|  2020-03-12 00:00:00|           Rionegro|               Antioquia|Recuperado|  36|   M|  Importado|  Leve|Estados Unidos de...|          -   -|2020-03-14 00:00:00|2020-03-24T00:00:...|2020-03-14 00:00:00|                 0|\n",
      "+----------+---------------------+-------------------+------------------------+----------+----+----+-----------+------+--------------------+---------------+-------------------+--------------------+-------------------+------------------+\n",
      "only showing top 5 rows"
     ]
    }
   ],
   "source": [
    "# Filtrar aquellos con 'Edad' < 50 y 'Sexo' = M\n",
    "df.filter(df['Edad'] < 50).filter(df['Sexo'] == 'M').show(5)"
   ]
  },
  {
   "cell_type": "code",
   "execution_count": 9,
   "metadata": {},
   "outputs": [
    {
     "data": {
      "application/vnd.jupyter.widget-view+json": {
       "model_id": "5ba060b922744d4982f210ba669cc3d3",
       "version_major": 2,
       "version_minor": 0
      },
      "text/plain": [
       "VBox()"
      ]
     },
     "metadata": {},
     "output_type": "display_data"
    },
    {
     "data": {
      "application/vnd.jupyter.widget-view+json": {
       "model_id": "",
       "version_major": 2,
       "version_minor": 0
      },
      "text/plain": [
       "FloatProgress(value=0.0, bar_style='info', description='Progress:', layout=Layout(height='25px', width='50%'),…"
      ]
     },
     "metadata": {},
     "output_type": "display_data"
    },
    {
     "name": "stdout",
     "output_type": "stream",
     "text": [
      "+---------+-----+\n",
      "|   Estado|count|\n",
      "+---------+-----+\n",
      "|     Leve| 5430|\n",
      "| Moderado|  382|\n",
      "|Fallecido|  278|\n",
      "|    Grave|  117|\n",
      "|     leve|    3|\n",
      "|      N/A|    1|\n",
      "+---------+-----+"
     ]
    }
   ],
   "source": [
    "# Agrupar por 'Estado' y contar\n",
    "df.groupBy('Estado').count().orderBy('count', ascending=False).show()"
   ]
  },
  {
   "cell_type": "code",
   "execution_count": 10,
   "metadata": {},
   "outputs": [
    {
     "data": {
      "application/vnd.jupyter.widget-view+json": {
       "model_id": "d7e9279c2ea84c9eb83ac2a3ecd21557",
       "version_major": 2,
       "version_minor": 0
      },
      "text/plain": [
       "VBox()"
      ]
     },
     "metadata": {},
     "output_type": "display_data"
    },
    {
     "data": {
      "application/vnd.jupyter.widget-view+json": {
       "model_id": "",
       "version_major": 2,
       "version_minor": 0
      },
      "text/plain": [
       "FloatProgress(value=0.0, bar_style='info', description='Progress:', layout=Layout(height='25px', width='50%'),…"
      ]
     },
     "metadata": {},
     "output_type": "display_data"
    }
   ],
   "source": [
    "# Guardar los resultados en el bucket de S3\n",
    "write_uri = 's3://tet-bd/datasets/spark/resultados_covid'\n",
    "df.coalesce(1).write.format('csv').option('header', 'true').save(write_uri)"
   ]
  },
  {
   "cell_type": "code",
   "execution_count": 12,
   "metadata": {},
   "outputs": [
    {
     "data": {
      "application/vnd.jupyter.widget-view+json": {
       "model_id": "bb8e86b5dbe948c7acae3aba4c58bab7",
       "version_major": 2,
       "version_minor": 0
      },
      "text/plain": [
       "VBox()"
      ]
     },
     "metadata": {},
     "output_type": "display_data"
    },
    {
     "data": {
      "application/vnd.jupyter.widget-view+json": {
       "model_id": "",
       "version_major": 2,
       "version_minor": 0
      },
      "text/plain": [
       "FloatProgress(value=0.0, bar_style='info', description='Progress:', layout=Layout(height='25px', width='50%'),…"
      ]
     },
     "metadata": {},
     "output_type": "display_data"
    },
    {
     "name": "stderr",
     "output_type": "stream",
     "text": [
      "'Attribute name \"ID de caso\" contains invalid character(s) among \" ,;{}()\\\\n\\\\t=\". Please use alias to rename it.;'\n",
      "Traceback (most recent call last):\n",
      "  File \"/usr/lib/spark/python/lib/pyspark.zip/pyspark/sql/readwriter.py\", line 738, in save\n",
      "    self._jwrite.save(path)\n",
      "  File \"/usr/lib/spark/python/lib/py4j-0.10.7-src.zip/py4j/java_gateway.py\", line 1257, in __call__\n",
      "    answer, self.gateway_client, self.target_id, self.name)\n",
      "  File \"/usr/lib/spark/python/lib/pyspark.zip/pyspark/sql/utils.py\", line 69, in deco\n",
      "    raise AnalysisException(s.split(': ', 1)[1], stackTrace)\n",
      "pyspark.sql.utils.AnalysisException: 'Attribute name \"ID de caso\" contains invalid character(s) among \" ,;{}()\\\\n\\\\t=\". Please use alias to rename it.;'\n",
      "\n"
     ]
    }
   ],
   "source": [
    "# Parquet\n",
    "parquet_uri = 's3://tet-bd/datasets/spark/resultados_covid/parquet'\n",
    "df.write.format('parquet').save(parquet_uri)"
   ]
  },
  {
   "cell_type": "code",
   "execution_count": null,
   "metadata": {},
   "outputs": [],
   "source": []
  }
 ],
 "metadata": {
  "kernelspec": {
   "display_name": "PySpark",
   "language": "",
   "name": "pysparkkernel"
  },
  "language_info": {
   "codemirror_mode": {
    "name": "python",
    "version": 2
   },
   "mimetype": "text/x-python",
   "name": "pyspark",
   "pygments_lexer": "python2"
  }
 },
 "nbformat": 4,
 "nbformat_minor": 4
}
